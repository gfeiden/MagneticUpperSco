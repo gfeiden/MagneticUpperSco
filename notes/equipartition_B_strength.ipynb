{
 "cells": [
  {
   "cell_type": "markdown",
   "metadata": {},
   "source": [
    "# Equipartition Surface Magnetic Field Strengths\n",
    "\n",
    "Computing equipartition magnetic field strengths using PHOENIX stellar atmosphere models (Hauschildt et al. 1999). "
   ]
  },
  {
   "cell_type": "code",
   "execution_count": 1,
   "metadata": {
    "collapsed": true
   },
   "outputs": [],
   "source": [
    "%matplotlib inline\n",
    "import numpy as np\n",
    "import matplotlib.pyplot as plt\n",
    "import scipy.interpolate as scint"
   ]
  },
  {
   "cell_type": "markdown",
   "metadata": {},
   "source": [
    "We need to import a file with stellar parameters and a table of stellar atmosphere properties in photospheric layers. We approximate the surface equipartition magnetic field strength as the equipartition field strength where the magnetic pressure is equal the gas pressure at a Rossland optical depth $\\tau = 1$. This is roughly equivalent to the equipartition field strength in the optical photospheric layers. Stellar parameters will be taken from a non-magnetic stellar model isochrone at an age of 10 Myr.\n",
    "\n",
    "Start by importing stellar parameters,"
   ]
  },
  {
   "cell_type": "code",
   "execution_count": 2,
   "metadata": {
    "collapsed": true
   },
   "outputs": [],
   "source": [
    "iso = np.genfromtxt('../models/iso/std/dmestar_00010.0myr_z+0.00_a+0.00_phx.iso')"
   ]
  },
  {
   "cell_type": "markdown",
   "metadata": {},
   "source": [
    "Now load a table with the atmospheric gas pressure and temperature at an optical depth $\\tau = 1$ for a set of $\\log(g)$s and $T_{\\rm eff}$s. We'll adopt a solar metallicity to simplify things."
   ]
  },
  {
   "cell_type": "code",
   "execution_count": 3,
   "metadata": {
    "collapsed": true
   },
   "outputs": [],
   "source": [
    "atm = np.genfromtxt('../models/atm/tab/Zp0d0.ap0d0_t001.dat')"
   ]
  },
  {
   "cell_type": "markdown",
   "metadata": {},
   "source": [
    "Values for the effective temperature of the atmosphere model is tabulated in column 0, but we must define an array with $\\log(g)$ values. "
   ]
  },
  {
   "cell_type": "code",
   "execution_count": 4,
   "metadata": {
    "collapsed": false
   },
   "outputs": [
    {
     "name": "stdout",
     "output_type": "stream",
     "text": [
      "[  2000.   2100.   2200.   2300.   2400.   2500.   2600.   2700.   2800.\n",
      "   2900.   3000.   3100.   3200.   3300.   3400.   3500.   3600.   3700.\n",
      "   3800.   3900.   4000.   4100.   4200.   4300.   4400.   4500.   4600.\n",
      "   4700.   4800.   4900.   5000.   5100.   5200.   5300.   5400.   5500.\n",
      "   5600.   5700.   5800.   5900.   6000.   6100.   6200.   6300.   6400.\n",
      "   6500.   6600.   6700.   6800.   6900.   7000.   7200.   7400.   7600.\n",
      "   7800.   8000.   8200.   8400.   8600.   8800.   9000.   9200.   9400.\n",
      "   9600.   9800.  10000.]\n",
      "[-0.5  0.   0.5  1.   1.5  2.   2.5  3.   3.5  4.   4.5  5.   5.5]\n"
     ]
    }
   ],
   "source": [
    "teffs = np.transpose(atm[:, 0])\n",
    "loggs = np.arange(-0.5, 5.6, 0.5)\n",
    "print teffs\n",
    "print loggs"
   ]
  },
  {
   "cell_type": "markdown",
   "metadata": {},
   "source": [
    "The atmosphere structure table isn't quite in the correct form for our purposes, as pressures and temperatures are intermingled. We should separate those properties into individual pressure and temperature tables. "
   ]
  },
  {
   "cell_type": "code",
   "execution_count": 5,
   "metadata": {
    "collapsed": false
   },
   "outputs": [],
   "source": [
    "temps = np.empty((len(teffs), len(loggs)))\n",
    "press = np.empty((len(teffs), len(loggs)))\n",
    "for i, teff in enumerate(atm[:, 1:]):\n",
    "    for j, prop in enumerate(teff):\n",
    "        if prop == 0.:\n",
    "            prop = np.nan\n",
    "        else:\n",
    "            pass\n",
    "        \n",
    "        if j%2 == 0:\n",
    "            press[i, j/2] = prop\n",
    "        else:\n",
    "            temps[i, j/2] = prop"
   ]
  },
  {
   "cell_type": "markdown",
   "metadata": {},
   "source": [
    "With the individual tables formed, we now need to construct interpolation surfaces using a 2D interpolation routine. Note that we only really care about the pressure table, as that sets the equipartition magnetic field strengths."
   ]
  },
  {
   "cell_type": "code",
   "execution_count": 6,
   "metadata": {
    "collapsed": false
   },
   "outputs": [],
   "source": [
    "pres_surface = scint.interp2d(teffs, loggs, np.transpose(press), kind='linear')"
   ]
  },
  {
   "cell_type": "markdown",
   "metadata": {},
   "source": [
    "We are in a position to compute surface pressures and, by extension, equipartition magnetic field strengths."
   ]
  },
  {
   "cell_type": "code",
   "execution_count": 7,
   "metadata": {
    "collapsed": false
   },
   "outputs": [],
   "source": [
    "B_eq = np.empty((len(iso[:62])))\n",
    "for i, star in enumerate(iso[:62]):\n",
    "    B_eq[i] = np.sqrt(8.0*np.pi*pres_surface(10**star[1], star[2]))"
   ]
  },
  {
   "cell_type": "markdown",
   "metadata": {},
   "source": [
    "See what kind of values we obtain."
   ]
  },
  {
   "cell_type": "code",
   "execution_count": 8,
   "metadata": {
    "collapsed": false
   },
   "outputs": [
    {
     "data": {
      "text/plain": [
       "array([ 2659.92565719,  2640.8762066 ,  2601.39409537,  2574.47287392,\n",
       "        2547.52813018,  2520.41264397,  2512.39338917,  2497.871942  ,\n",
       "        2475.89718709,  2464.61361199,  2454.09346119,  2444.28825026,\n",
       "        2436.50517283,  2429.33381733,  2422.31212487,  2415.37789075,\n",
       "        2408.91931469,  2402.70451673,  2396.51867784,  2390.27898429,\n",
       "        2383.96405908,  2377.17793796,  2369.57127293,  2361.28871528,\n",
       "        2352.8630523 ,  2344.42180454,  2335.80944144,  2326.89073425,\n",
       "        2317.72156231,  2308.48104173,  2298.43057873,  2287.54247666,\n",
       "        2275.92910244,  2263.71029116,  2250.66726014,  2236.73540779,\n",
       "        2219.96534634,  2205.60102733,  2190.21910703,  2175.1489264 ,\n",
       "        2159.49085786,  2142.7275601 ,  2124.20463775,  2104.35839583,\n",
       "        2083.00137978,  2060.78209034,  2036.6275872 ,  2012.22178199,\n",
       "        1975.49516405,  1920.34829018,  1871.2147127 ,  1828.30590997,\n",
       "        1784.26246206,  1731.48098138,  1665.36385977,  1575.25812772,\n",
       "        1454.69099852,  1291.36489431,  1108.76482439,   941.37664656,\n",
       "         765.7928003 ,   763.4672337 ])"
      ]
     },
     "execution_count": 8,
     "metadata": {},
     "output_type": "execute_result"
    }
   ],
   "source": [
    "B_eq"
   ]
  },
  {
   "cell_type": "markdown",
   "metadata": {},
   "source": [
    "These values match estimates from convective energy equiparition and observational measurements (e.g., Saar). There is a general trend that equipartition field strengths decrease toward higher masses/temperatures, which matches intuition since surface gas pressures decrease as stellar surface layers become more extended and fluffy."
   ]
  },
  {
   "cell_type": "code",
   "execution_count": 9,
   "metadata": {
    "collapsed": false
   },
   "outputs": [
    {
     "data": {
      "text/plain": [
       "[<matplotlib.lines.Line2D at 0x113bec550>]"
      ]
     },
     "execution_count": 9,
     "metadata": {},
     "output_type": "execute_result"
    },
    {
     "data": {
      "image/png": "[encoded data removed]",
      "text/plain": [
       "<matplotlib.figure.Figure at 0x110bdff90>"
      ]
     },
     "metadata": {},
     "output_type": "display_data"
    }
   ],
   "source": [
    "fig, ax = plt.subplots(1, 1, figsize=(9., 6.))\n",
    "\n",
    "ax.set_xlabel('${\\\\rm Mass}\\ (M_{\\\\odot})$', fontsize=20)\n",
    "ax.set_ylabel('$\\\\langle {\\\\rm B}f \\\\rangle_{\\\\rm eq}$', fontsize=20)\n",
    "ax.grid()\n",
    "\n",
    "ax.plot(iso[:62, 0], B_eq, 'o-', lw=1, color='#333333', alpha=0.7)"
   ]
  }
 ],
 "metadata": {
  "kernelspec": {
   "display_name": "Python 2",
   "language": "python",
   "name": "python2"
  },
  "language_info": {
   "codemirror_mode": {
    "name": "ipython",
    "version": 2
   },
   "file_extension": ".py",
   "mimetype": "text/x-python",
   "name": "python",
   "nbconvert_exporter": "python",
   "pygments_lexer": "ipython2",
   "version": "2.7.9"
  }
 },
 "nbformat": 4,
 "nbformat_minor": 0
}
